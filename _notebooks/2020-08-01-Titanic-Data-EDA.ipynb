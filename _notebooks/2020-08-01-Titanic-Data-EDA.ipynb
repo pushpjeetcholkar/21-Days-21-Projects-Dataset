{
  "nbformat": 4,
  "nbformat_minor": 0,
  "metadata": {
    "colab": {
      "name": "Titanic EDA.ipynb",
      "provenance": [],
      "collapsed_sections": [
        "9OaJvl3aXOVU"
      ]
    },
    "kernelspec": {
      "name": "python3",
      "display_name": "Python 3"
    }
  },
  "cells": [
    {
      "cell_type": "markdown",
      "metadata": {
        "id": "pXBr5e9UxfBa"
      },
      "source": [
        "# Exploratory Data Analysis with Titanic Data Set"
      ]
    },
    {
      "cell_type": "code",
      "metadata": {
        "id": "9-qz_pDLi-K0",
        "outputId": "7fab5d82-7f40-4c71-ca4c-0b5efc4bb73e",
        "colab": {
          "base_uri": "https://localhost:8080/",
          "height": 304
        }
      },
      "source": [
        "from google.colab import drive\n",
        "drive.mount('/content/gdrive')"
      ],
      "execution_count": 1,
      "outputs": [
        {
          "output_type": "error",
          "ename": "MessageError",
          "evalue": "Error: credential propagation was unsuccessful",
          "traceback": [
            "\u001b[0;31m---------------------------------------------------------------------------\u001b[0m",
            "\u001b[0;31mMessageError\u001b[0m                              Traceback (most recent call last)",
            "\u001b[0;32m/tmp/ipython-input-1050275017.py\u001b[0m in \u001b[0;36m<cell line: 0>\u001b[0;34m()\u001b[0m\n\u001b[1;32m      1\u001b[0m \u001b[0;32mfrom\u001b[0m \u001b[0mgoogle\u001b[0m\u001b[0;34m.\u001b[0m\u001b[0mcolab\u001b[0m \u001b[0;32mimport\u001b[0m \u001b[0mdrive\u001b[0m\u001b[0;34m\u001b[0m\u001b[0;34m\u001b[0m\u001b[0m\n\u001b[0;32m----> 2\u001b[0;31m \u001b[0mdrive\u001b[0m\u001b[0;34m.\u001b[0m\u001b[0mmount\u001b[0m\u001b[0;34m(\u001b[0m\u001b[0;34m'/content/gdrive'\u001b[0m\u001b[0;34m)\u001b[0m\u001b[0;34m\u001b[0m\u001b[0;34m\u001b[0m\u001b[0m\n\u001b[0m",
            "\u001b[0;32m/usr/local/lib/python3.12/dist-packages/google/colab/drive.py\u001b[0m in \u001b[0;36mmount\u001b[0;34m(mountpoint, force_remount, timeout_ms, readonly)\u001b[0m\n\u001b[1;32m     95\u001b[0m \u001b[0;32mdef\u001b[0m \u001b[0mmount\u001b[0m\u001b[0;34m(\u001b[0m\u001b[0mmountpoint\u001b[0m\u001b[0;34m,\u001b[0m \u001b[0mforce_remount\u001b[0m\u001b[0;34m=\u001b[0m\u001b[0;32mFalse\u001b[0m\u001b[0;34m,\u001b[0m \u001b[0mtimeout_ms\u001b[0m\u001b[0;34m=\u001b[0m\u001b[0;36m120000\u001b[0m\u001b[0;34m,\u001b[0m \u001b[0mreadonly\u001b[0m\u001b[0;34m=\u001b[0m\u001b[0;32mFalse\u001b[0m\u001b[0;34m)\u001b[0m\u001b[0;34m:\u001b[0m\u001b[0;34m\u001b[0m\u001b[0;34m\u001b[0m\u001b[0m\n\u001b[1;32m     96\u001b[0m   \u001b[0;34m\"\"\"Mount your Google Drive at the specified mountpoint path.\"\"\"\u001b[0m\u001b[0;34m\u001b[0m\u001b[0;34m\u001b[0m\u001b[0m\n\u001b[0;32m---> 97\u001b[0;31m   return _mount(\n\u001b[0m\u001b[1;32m     98\u001b[0m       \u001b[0mmountpoint\u001b[0m\u001b[0;34m,\u001b[0m\u001b[0;34m\u001b[0m\u001b[0;34m\u001b[0m\u001b[0m\n\u001b[1;32m     99\u001b[0m       \u001b[0mforce_remount\u001b[0m\u001b[0;34m=\u001b[0m\u001b[0mforce_remount\u001b[0m\u001b[0;34m,\u001b[0m\u001b[0;34m\u001b[0m\u001b[0;34m\u001b[0m\u001b[0m\n",
            "\u001b[0;32m/usr/local/lib/python3.12/dist-packages/google/colab/drive.py\u001b[0m in \u001b[0;36m_mount\u001b[0;34m(mountpoint, force_remount, timeout_ms, ephemeral, readonly)\u001b[0m\n\u001b[1;32m    132\u001b[0m   )\n\u001b[1;32m    133\u001b[0m   \u001b[0;32mif\u001b[0m \u001b[0mephemeral\u001b[0m\u001b[0;34m:\u001b[0m\u001b[0;34m\u001b[0m\u001b[0;34m\u001b[0m\u001b[0m\n\u001b[0;32m--> 134\u001b[0;31m     _message.blocking_request(\n\u001b[0m\u001b[1;32m    135\u001b[0m         \u001b[0;34m'request_auth'\u001b[0m\u001b[0;34m,\u001b[0m\u001b[0;34m\u001b[0m\u001b[0;34m\u001b[0m\u001b[0m\n\u001b[1;32m    136\u001b[0m         \u001b[0mrequest\u001b[0m\u001b[0;34m=\u001b[0m\u001b[0;34m{\u001b[0m\u001b[0;34m'authType'\u001b[0m\u001b[0;34m:\u001b[0m \u001b[0;34m'dfs_ephemeral'\u001b[0m\u001b[0;34m}\u001b[0m\u001b[0;34m,\u001b[0m\u001b[0;34m\u001b[0m\u001b[0;34m\u001b[0m\u001b[0m\n",
            "\u001b[0;32m/usr/local/lib/python3.12/dist-packages/google/colab/_message.py\u001b[0m in \u001b[0;36mblocking_request\u001b[0;34m(request_type, request, timeout_sec, parent)\u001b[0m\n\u001b[1;32m    174\u001b[0m       \u001b[0mrequest_type\u001b[0m\u001b[0;34m,\u001b[0m \u001b[0mrequest\u001b[0m\u001b[0;34m,\u001b[0m \u001b[0mparent\u001b[0m\u001b[0;34m=\u001b[0m\u001b[0mparent\u001b[0m\u001b[0;34m,\u001b[0m \u001b[0mexpect_reply\u001b[0m\u001b[0;34m=\u001b[0m\u001b[0;32mTrue\u001b[0m\u001b[0;34m\u001b[0m\u001b[0;34m\u001b[0m\u001b[0m\n\u001b[1;32m    175\u001b[0m   )\n\u001b[0;32m--> 176\u001b[0;31m   \u001b[0;32mreturn\u001b[0m \u001b[0mread_reply_from_input\u001b[0m\u001b[0;34m(\u001b[0m\u001b[0mrequest_id\u001b[0m\u001b[0;34m,\u001b[0m \u001b[0mtimeout_sec\u001b[0m\u001b[0;34m)\u001b[0m\u001b[0;34m\u001b[0m\u001b[0;34m\u001b[0m\u001b[0m\n\u001b[0m",
            "\u001b[0;32m/usr/local/lib/python3.12/dist-packages/google/colab/_message.py\u001b[0m in \u001b[0;36mread_reply_from_input\u001b[0;34m(message_id, timeout_sec)\u001b[0m\n\u001b[1;32m    101\u001b[0m     ):\n\u001b[1;32m    102\u001b[0m       \u001b[0;32mif\u001b[0m \u001b[0;34m'error'\u001b[0m \u001b[0;32min\u001b[0m \u001b[0mreply\u001b[0m\u001b[0;34m:\u001b[0m\u001b[0;34m\u001b[0m\u001b[0;34m\u001b[0m\u001b[0m\n\u001b[0;32m--> 103\u001b[0;31m         \u001b[0;32mraise\u001b[0m \u001b[0mMessageError\u001b[0m\u001b[0;34m(\u001b[0m\u001b[0mreply\u001b[0m\u001b[0;34m[\u001b[0m\u001b[0;34m'error'\u001b[0m\u001b[0;34m]\u001b[0m\u001b[0;34m)\u001b[0m\u001b[0;34m\u001b[0m\u001b[0;34m\u001b[0m\u001b[0m\n\u001b[0m\u001b[1;32m    104\u001b[0m       \u001b[0;32mreturn\u001b[0m \u001b[0mreply\u001b[0m\u001b[0;34m.\u001b[0m\u001b[0mget\u001b[0m\u001b[0;34m(\u001b[0m\u001b[0;34m'data'\u001b[0m\u001b[0;34m,\u001b[0m \u001b[0;32mNone\u001b[0m\u001b[0;34m)\u001b[0m\u001b[0;34m\u001b[0m\u001b[0;34m\u001b[0m\u001b[0m\n\u001b[1;32m    105\u001b[0m \u001b[0;34m\u001b[0m\u001b[0m\n",
            "\u001b[0;31mMessageError\u001b[0m: Error: credential propagation was unsuccessful"
          ]
        }
      ]
    },
    {
      "cell_type": "code",
      "metadata": {
        "id": "5uVdx19Ojndw"
      },
      "source": [
        "import numpy as np\n",
        "import pandas as pd\n",
        "import seaborn as sns\n",
        "import matplotlib.pyplot as plt\n",
        "%matplotlib inline\n",
        "\n",
        "\n",
        "sns.set(style=\"whitegrid\", font_scale=1.75)"
      ],
      "execution_count": null,
      "outputs": []
    },
    {
      "cell_type": "code",
      "metadata": {
        "id": "R4NOrJgmkDEH"
      },
      "source": [
        "train = pd.read_csv('/content/gdrive/My Drive/titanic/train.csv')\n",
        "test = pd.read_csv('/content/gdrive/My Drive/titanic/test.csv')\n",
        "\n",
        "print(train.shape)\n",
        "print(test.shape)"
      ],
      "execution_count": null,
      "outputs": []
    },
    {
      "cell_type": "code",
      "metadata": {
        "id": "xfmqnui4k_QW"
      },
      "source": [
        "train.head()"
      ],
      "execution_count": null,
      "outputs": []
    },
    {
      "cell_type": "code",
      "metadata": {
        "id": "2cNoYB_flyra"
      },
      "source": [
        "test_Id = test['PassengerId']"
      ],
      "execution_count": null,
      "outputs": []
    },
    {
      "cell_type": "code",
      "metadata": {
        "id": "dOUJHJIMlGbf"
      },
      "source": [
        "all_features = pd.concat((train, test), sort = False)"
      ],
      "execution_count": null,
      "outputs": []
    },
    {
      "cell_type": "code",
      "metadata": {
        "id": "D1fd1lVRnl8L"
      },
      "source": [
        "all_features.drop('PassengerId', axis =1, inplace = True)"
      ],
      "execution_count": null,
      "outputs": []
    },
    {
      "cell_type": "markdown",
      "metadata": {
        "id": "kLS-hJecBNMn"
      },
      "source": [
        "#Missing Value treatment"
      ]
    },
    {
      "cell_type": "code",
      "metadata": {
        "id": "Lt03vmmplOrs"
      },
      "source": [
        "missing_values = (all_features.isnull().sum()/all_features.shape[0]  *100).sort_values(ascending = False)\n",
        "missing_values"
      ],
      "execution_count": null,
      "outputs": []
    },
    {
      "cell_type": "code",
      "metadata": {
        "id": "85b6L8Z5yyCW"
      },
      "source": [
        "all_features['Age'].fillna(all_features['Age'].mean(), inplace = True)"
      ],
      "execution_count": null,
      "outputs": []
    },
    {
      "cell_type": "markdown",
      "metadata": {
        "id": "At6wnayyBe0e"
      },
      "source": [
        "#Feature Engineering"
      ]
    },
    {
      "cell_type": "code",
      "metadata": {
        "id": "m_NUtLKqnjHS"
      },
      "source": [
        "def expand_embark_acronym(embarked):\n",
        "    result = []\n",
        "    mapping = {\n",
        "            \"C\": \"Cherbourg\",\n",
        "            \"S\": \"Southampton\",\n",
        "            \"Q\": \"Queenstown\"\n",
        "    }\n",
        "    for each in embarked.values:\n",
        "        if len(str(each)) > 1:\n",
        "            result.append(each)\n",
        "        else:\n",
        "            if each in mapping:\n",
        "                result.append(mapping[each])\n",
        "            else:\n",
        "                result.append(\"Unknown\")\n",
        "    return result\n",
        "\n",
        "def expand_pclass_acronym(pclass):\n",
        "    result = []\n",
        "    mapping = {\n",
        "            1: \"1st class\",\n",
        "            2: \"2nd class\",\n",
        "            3: \"3rd class\"\n",
        "    }\n",
        "    for each in pclass.values:\n",
        "        if len(str(each)) > 1:\n",
        "            result.append(each)\n",
        "        else:\n",
        "            if each in mapping:\n",
        "                result.append(mapping[each])\n",
        "            else:\n",
        "                result.append(\"Unknown\")\n",
        "    return result\n",
        "\n",
        "def is_a_minor(age):\n",
        "\n",
        "    if age < 18:\n",
        "        return \"Under 18 (minor)\"\n",
        "\n",
        "    return \"Adult\"\n",
        "\n",
        "# See https://help.healthycities.org/hc/en-us/articles/219556208-How-are-the-different-age-groups-defined-\n",
        "def apply_age_groups(age):\n",
        "    result = []\n",
        "    mapping = {\n",
        "            1: \"Infant\",      # Infants: <1\n",
        "           13: \"Child\",       # Children: <18, <11 or K - 7th grade\n",
        "           18: \"Teen\",        # Teens: 13-17 (Teens, who are not Adults)\n",
        "           66: \"Adult\",       # Adults: 20+ (includes adult teens: 18+)\n",
        "           123: \"Elderly\"     # Elderly: 65+ (123 is the oldest age known till date)\n",
        "    }\n",
        "    for each_age in age.values:\n",
        "        if type(each_age) == str:\n",
        "            result.append(category)\n",
        "        else:\n",
        "            category = \"Unknown\"\n",
        "            if each_age != np.nan:\n",
        "                for each_age_range in mapping:\n",
        "                    if  each_age < each_age_range:\n",
        "                        category = mapping[each_age_range]\n",
        "                        break\n",
        "            result.append(category)\n",
        "    return result\n",
        "\n",
        "def apply_age_ranges(age):\n",
        "    result = []\n",
        "    mapping = {\n",
        "            6: \"00-05 years\",\n",
        "           12: \"06-11 years\",\n",
        "           19: \"12-18 years\",\n",
        "           31: \"19-30 years\",\n",
        "           41: \"31-40 years\",\n",
        "           51: \"41-50 years\",\n",
        "           61: \"51-60 years\",\n",
        "           71: \"61-70 years\",\n",
        "           81: \"71-80 years\",\n",
        "           91: \"81-90 years\",\n",
        "           124: \"91+ years\",  # (123 is the oldest age known till date)\n",
        "    }\n",
        "\n",
        "    for each_age in age.values:\n",
        "        if type(each_age) == str:\n",
        "            result.append(category)\n",
        "        else:\n",
        "            category = \"Unknown\"\n",
        "            if each_age != np.nan:\n",
        "                for each_age_range in mapping:\n",
        "                    if  each_age < each_age_range:\n",
        "                        category = mapping[each_age_range]\n",
        "                        break\n",
        "            result.append(category)\n",
        "    return result\n",
        "\n",
        "def is_married_of_single(names, ages, sexes):\n",
        "    result = []\n",
        "    for name, age, sex in zip(names.values, ages.values, sexes.values):\n",
        "        if age < 18:\n",
        "            result.append(\"Not of legal age\")\n",
        "        else:\n",
        "            if ('Mrs.' in name) or ('Mme.' in name):\n",
        "                result.append(\"Married\")\n",
        "            elif ('Miss.' in name) or ('Ms.' in name) or ('Lady' in name) or ('Mlle.' in name):\n",
        "                result.append(\"Single\")\n",
        "            else:\n",
        "                result.append(\"Unknown\")\n",
        "\n",
        "    return result\n",
        "\n",
        "def apply_travel_companions(siblings_spouse, parent_children):\n",
        "    result = []\n",
        "    for siblings_spouse_count, parent_children_count in zip(siblings_spouse.values, parent_children.values):\n",
        "        if (siblings_spouse_count > 0) and (parent_children_count > 0):\n",
        "            result.append(\"Parent/Children & Sibling/Spouse\")\n",
        "        else:\n",
        "            if (siblings_spouse_count > 0):\n",
        "                result.append(\"Sibling/Spouse\")\n",
        "            elif (parent_children_count > 0):\n",
        "                result.append(\"Parent/Children\")\n",
        "            else:\n",
        "                result.append(\"Alone\")\n",
        "\n",
        "    return result\n",
        "\n",
        "def apply_fare_ranges(fare):\n",
        "    result = []\n",
        "    mapping = {\n",
        "           11: \"£000 - 010\",\n",
        "           21: \"£011 - 020\",\n",
        "           41: \"£020 - 040\",\n",
        "           81: \"£041 - 080\",\n",
        "          101: \"£081 - 100\",\n",
        "          201: \"£101 - 200\",\n",
        "          301: \"£201 - 300\",\n",
        "          401: \"£301 - 400\",\n",
        "          515: \"£401 & above\"  # in this case the max fare is around £512\n",
        "    }\n",
        "    for each_fare in fare.values:\n",
        "        if type(each_fare) == str:\n",
        "            result.append(category)\n",
        "        else:\n",
        "            category = \"Unknown\"\n",
        "            if each_fare != np.nan:\n",
        "                for each_fare_range in mapping:\n",
        "                    if  each_fare < each_fare_range:\n",
        "                        category = mapping[each_fare_range]\n",
        "                        break\n",
        "            result.append(category)\n",
        "\n",
        "    return result\n",
        "\n",
        "def were_in_a_cabin_or_not(row):\n",
        "    if type(row) is str:\n",
        "        return \"In a Cabin\"\n",
        "    return \"Not in a Cabin\""
      ],
      "execution_count": null,
      "outputs": []
    },
    {
      "cell_type": "code",
      "metadata": {
        "id": "Z-fj6qT4o_P5"
      },
      "source": [
        "## Embarked: Place of embarkation\n",
        "all_features['Embarked'] = expand_embark_acronym(all_features['Embarked'])\n",
        "\n",
        "# Pclass: Passenger Class\n",
        "all_features['Pclass'] = expand_pclass_acronym(all_features['Pclass'])\n",
        "\n",
        "# Age\n",
        "all_features['Adult_or_minor'] = all_features['Age'].apply(is_a_minor)\n",
        "females_filter = all_features['Sex'] == 'female'\n",
        "adult_filter = all_features['Adult_or_minor'] == '2. Adult'\n",
        "\n",
        "all_features['Marital_status'] = is_married_of_single(all_features['Name'], all_features['Age'], all_features['Sex'])\n",
        "all_features['Age_group'] = apply_age_groups(all_features['Age'])\n",
        "all_features['Age_ranges'] = apply_age_ranges(all_features['Age'])\n",
        "\n",
        "# SibSp and Parch: Sibling/Spouse counts, Parent/Children counts\n",
        "all_features['Travel_companion'] = apply_travel_companions(all_features['SibSp'], all_features['Parch'])\n",
        "\n",
        "# Fare: ticket fare across the different classes\n",
        "all_features['Fare_range'] = apply_fare_ranges(all_features['Fare'])\n",
        "\n",
        "# Cabin: ticket holder has a cabin or not\n",
        "all_features['In_Cabin'] = all_features['Cabin'].apply(were_in_a_cabin_or_not)\n",
        "all_features['Cabin'] = all_features['Cabin'].fillna('No cabin')"
      ],
      "execution_count": null,
      "outputs": []
    },
    {
      "cell_type": "code",
      "metadata": {
        "id": "Ve2YyoHBtlw2"
      },
      "source": [
        "all_features.head()"
      ],
      "execution_count": null,
      "outputs": []
    },
    {
      "cell_type": "code",
      "metadata": {
        "id": "074T3GSjwQ-x"
      },
      "source": [
        "missing_values = (all_features.isnull().sum()/all_features.shape[0]  *100).sort_values(ascending = False)\n",
        "missing_values"
      ],
      "execution_count": null,
      "outputs": []
    },
    {
      "cell_type": "code",
      "metadata": {
        "id": "cRwCDd7e8EXT"
      },
      "source": [
        "def passenger_stats(dataset):\n",
        "    total_ticket_holders = dataset.shape[0]\n",
        "    siblings_count = dataset['SibSp'].sum()\n",
        "    parents_children_count = dataset['Parch'].sum()\n",
        "\n",
        "    print(\"total_ticket_holders:\", total_ticket_holders)\n",
        "    print(\"siblings_count:\", siblings_count)\n",
        "    print(\"parents_children_count:\", parents_children_count)\n",
        "    print(\"total (siblings, parents and children count):\", siblings_count + parents_children_count)\n",
        "\n",
        "    grand_total = total_ticket_holders + siblings_count + parents_children_count\n",
        "    print(\"grand total (ticket holders, siblings, parents, children count):\", grand_total)\n",
        "\n",
        "    return grand_total\n",
        "\n",
        "training_dataset_passengers_count = passenger_stats(all_features)"
      ],
      "execution_count": null,
      "outputs": []
    },
    {
      "cell_type": "markdown",
      "metadata": {
        "id": "I6nTUndxCGs0"
      },
      "source": [
        "Creating the test & train dataset again."
      ]
    },
    {
      "cell_type": "code",
      "metadata": {
        "id": "BXE44VKD9AAl"
      },
      "source": [
        "train = all_features[: 891]\n",
        "test = all_features[891:]"
      ],
      "execution_count": null,
      "outputs": []
    },
    {
      "cell_type": "code",
      "metadata": {
        "id": "kMCVbsQY9X_z"
      },
      "source": [
        "print(train.shape)\n",
        "print(test.shape)"
      ],
      "execution_count": null,
      "outputs": []
    },
    {
      "cell_type": "code",
      "metadata": {
        "id": "z2xhCh0s9gai"
      },
      "source": [
        "missing_values = (test.isnull().sum()/test.shape[0]  *100).sort_values(ascending = False)\n",
        "missing_values"
      ],
      "execution_count": null,
      "outputs": []
    },
    {
      "cell_type": "markdown",
      "metadata": {
        "id": "psAcdfQOCRQj"
      },
      "source": [
        "Remove the Survived Variable from the test dataset since it's empty ans the test dataset shouldn't contain the Target Variable."
      ]
    },
    {
      "cell_type": "code",
      "metadata": {
        "id": "Gd9D7MUS9xVC"
      },
      "source": [
        "test.drop('Survived',axis = 1, inplace = True)"
      ],
      "execution_count": null,
      "outputs": []
    },
    {
      "cell_type": "markdown",
      "metadata": {
        "id": "v82NIW3h-jIL"
      },
      "source": [
        "Analysis"
      ]
    },
    {
      "cell_type": "markdown",
      "metadata": {
        "id": "Ma8_Yr96X5_Q"
      },
      "source": [
        "#Distribution of the dataset"
      ]
    },
    {
      "cell_type": "code",
      "metadata": {
        "id": "cfjkuCak-iwM"
      },
      "source": [
        "g = sns.countplot(train['Survived'])\n",
        "plt.legend(loc='upper right')\n",
        "g.set(xlabel=\"Survival\", xticklabels=[\"Died\", \"Survived\"]) # \"0=Died\", \"1=Survived\""
      ],
      "execution_count": null,
      "outputs": []
    },
    {
      "cell_type": "markdown",
      "metadata": {
        "id": "v5H6QNLeXaIk"
      },
      "source": [
        "#Sex of the passenger associated with Survival"
      ]
    },
    {
      "cell_type": "code",
      "metadata": {
        "id": "PSaSZkP9-zGd"
      },
      "source": [
        "g = sns.countplot(train['Survived'], hue = train['Sex'])\n",
        "plt.legend(loc='upper right')\n",
        "g.set(xlabel=\"Survival\", xticklabels=[\"Died\", \"Survived\"])"
      ],
      "execution_count": null,
      "outputs": []
    },
    {
      "cell_type": "markdown",
      "metadata": {
        "id": "9OaJvl3aXOVU"
      },
      "source": [
        "#Passenger Class associated with survival"
      ]
    },
    {
      "cell_type": "code",
      "metadata": {
        "id": "OgPnDKikAH7l"
      },
      "source": [
        "g = sns.countplot(train['Survived'], hue = train['Pclass'])\n",
        "plt.legend(loc='upper right')\n",
        "g.set(xlabel=\"Survival\", xticklabels=[\"Died\", \"Survived\"])"
      ],
      "execution_count": null,
      "outputs": []
    },
    {
      "cell_type": "code",
      "metadata": {
        "id": "j7hOdKDQAUIc"
      },
      "source": [
        "gender_class_pivot = train.pivot_table(values=['Survived'], index=['Sex', 'Pclass'])\n",
        "gender_class_pivot"
      ],
      "execution_count": null,
      "outputs": []
    },
    {
      "cell_type": "code",
      "metadata": {
        "id": "yVB_3ZPOJ3-3"
      },
      "source": [
        "g = sns.catplot(x=\"Survived\", hue=\"Pclass\", col='Sex', data=train.sort_values(by='Pclass'), kind='count')\n",
        "g.set(xticklabels=['Died', 'Survived'], xlabel=\"Survival\")"
      ],
      "execution_count": null,
      "outputs": []
    },
    {
      "cell_type": "markdown",
      "metadata": {
        "id": "3EH3kqU2U_29"
      },
      "source": [
        "3rd Class male passengers forms the largest group who died. In all the three classes femely passengers survived the most."
      ]
    },
    {
      "cell_type": "markdown",
      "metadata": {
        "id": "PQlSzti1WykA"
      },
      "source": [
        "#Fares Paid associated with Survival"
      ]
    },
    {
      "cell_type": "code",
      "metadata": {
        "id": "rd68EhYZLto1"
      },
      "source": [
        "g = sns.catplot(x=\"Survived\", y=\"Fare\", hue=\"Pclass\", data=train.sort_values(by='Pclass'), kind=\"bar\");\n",
        "g.set(xticklabels=['Died', 'Survived'], xlabel=\"Survival\", title=\"Sum of fares collected across the three Passenger Classes and Survival\")"
      ],
      "execution_count": null,
      "outputs": []
    },
    {
      "cell_type": "code",
      "metadata": {
        "id": "r13VCFpbMyMp"
      },
      "source": [
        "g = sns.countplot(train['Pclass'])\n",
        "plt.legend(loc='upper right')\n",
        "g.set(xlabel=\"Passenger Class\")"
      ],
      "execution_count": null,
      "outputs": []
    },
    {
      "cell_type": "markdown",
      "metadata": {
        "id": "1oooCJVzNMvI"
      },
      "source": [
        "Though the 3rd Class passengers forms the largest group but it's the 1st Class passengers who survived the most. This shows Rescue services were provided to wealthy passengers.\n"
      ]
    },
    {
      "cell_type": "markdown",
      "metadata": {
        "id": "tdbC7vHhhrlH"
      },
      "source": [
        "#Passenger fare range with survival"
      ]
    },
    {
      "cell_type": "code",
      "metadata": {
        "id": "5gL9-8wGY3Fm"
      },
      "source": [
        "def fare_range_with_survival( passenger_class, title):\n",
        "    dataset = train.copy()\n",
        "    class_filter = dataset['Pclass'] == passenger_class\n",
        "    dataset = dataset[class_filter]\n",
        "\n",
        "    dataset[class_filter]\n",
        "    g = sns.catplot(y=\"Fare_range\", hue=\"Survived\", data=dataset.sort_values(by='Pclass'), kind=\"count\")\n",
        "    g.set(ylabel=\"Fare range\", title=title)\n",
        "\n",
        "    new_labels = ['Died', 'Survived']\n",
        "    for t, l in zip(g._legend.texts, new_labels):\n",
        "      t.set_text(l)\n",
        "    g.fig.set_figwidth(35)"
      ],
      "execution_count": null,
      "outputs": []
    },
    {
      "cell_type": "code",
      "metadata": {
        "id": "Qx6qz81pZB90"
      },
      "source": [
        "fare_range_with_survival('1st class', \"First class passengers and Fare ranges\")"
      ],
      "execution_count": null,
      "outputs": []
    },
    {
      "cell_type": "code",
      "metadata": {
        "id": "sWzhW1c1Z2Bo"
      },
      "source": [
        "fare_range_with_survival('2nd class', \"Second class passengers and Fare ranges\")"
      ],
      "execution_count": null,
      "outputs": []
    },
    {
      "cell_type": "code",
      "metadata": {
        "id": "Xb9CbasSZ7wl"
      },
      "source": [
        "fare_range_with_survival('3rd class', \"Third class passengers and Fare ranges\")"
      ],
      "execution_count": null,
      "outputs": []
    },
    {
      "cell_type": "markdown",
      "metadata": {
        "id": "8KyV8te5jKe2"
      },
      "source": [
        "#Survival with age"
      ]
    },
    {
      "cell_type": "code",
      "metadata": {
        "id": "s5BNyzM_jP4o"
      },
      "source": [
        "g = sns.catplot(col=\"Sex\", x=\"Survived\", hue=\"Age_group\", data=train.sort_values(by='Age'), kind='count')\n",
        "g.set(xlabel=\"Survival\", xticklabels=['Died', 'Survived'])\n",
        "g.fig.set_figwidth(20)"
      ],
      "execution_count": null,
      "outputs": []
    },
    {
      "cell_type": "code",
      "metadata": {
        "id": "LLtLz3EDkQeG"
      },
      "source": [
        "g = sns.catplot(y=\"Age\", x=\"Sex\", hue=\"Survived\", data=train)\n",
        "new_labels = ['Died', 'Survived']\n",
        "for t, l in zip(g._legend.texts, new_labels):\n",
        "    t.set_text(l)\n",
        "g.fig.set_figwidth(16)"
      ],
      "execution_count": null,
      "outputs": []
    },
    {
      "cell_type": "markdown",
      "metadata": {
        "id": "KQASHOaTmGoO"
      },
      "source": [
        "#Survival with Travel Companion"
      ]
    },
    {
      "cell_type": "code",
      "metadata": {
        "id": "nvHaEFXlmbIp"
      },
      "source": [
        "sibling_spouse_pivot_table = train.pivot_table(values = ['Survived'],index = 'SibSp')\n",
        "sibling_spouse_pivot_table\n",
        "sibling_spouse_pivot_table.plot(kind='barh')\n",
        "plt.ylabel('Sibling/spouse count')"
      ],
      "execution_count": null,
      "outputs": []
    },
    {
      "cell_type": "code",
      "metadata": {
        "id": "S4AERSP5oFwu"
      },
      "source": [
        "parent_children_pivot_table = train.pivot_table(values = ['Survived'],index = 'SibSp')\n",
        "parent_children_pivot_table\n",
        "sibling_spouse_pivot_table.plot(kind='barh')\n",
        "plt.ylabel('Parent/children count')"
      ],
      "execution_count": null,
      "outputs": []
    },
    {
      "cell_type": "code",
      "metadata": {
        "id": "oVPa9w9opU85"
      },
      "source": [
        "travel_companion_pivot_table = train.pivot_table(values = ['Survived'],index = 'Travel_companion')\n",
        "travel_companion_pivot_table\n",
        "travel_companion_pivot_table.plot(kind='barh')\n",
        "plt.ylabel('Travel Companion')"
      ],
      "execution_count": null,
      "outputs": []
    },
    {
      "cell_type": "markdown",
      "metadata": {
        "id": "OItc5F3SqVsQ"
      },
      "source": []
    },
    {
      "cell_type": "code",
      "metadata": {
        "id": "LJcuQx8lqWan"
      },
      "source": [
        "adult_or_minor_pivot_table = train.pivot_table(values=['Survived'], index=['Adult_or_minor', 'Sex'])\n",
        "adult_or_minor_pivot_table\n",
        "adult_or_minor_pivot_table.plot(kind='barh')\n",
        "plt.ylabel('Adult/ Minor')"
      ],
      "execution_count": null,
      "outputs": []
    },
    {
      "cell_type": "markdown",
      "metadata": {
        "id": "EdinshJIwYYS"
      },
      "source": [
        "#Embarked with survival"
      ]
    },
    {
      "cell_type": "code",
      "metadata": {
        "id": "yY8eyhrVwec4"
      },
      "source": [
        "embarked_pivot_table=train.pivot_table(values=['Survived'], index='Embarked')\n",
        "embarked_pivot_table"
      ],
      "execution_count": null,
      "outputs": []
    },
    {
      "cell_type": "markdown",
      "metadata": {
        "id": "o5TaBJl4w8lb"
      },
      "source": [
        "It looks like, Passengers who boarded the Titanic from Southampton were the least fornunate. We need to analyze more. Let's do it with Passenger Class."
      ]
    },
    {
      "cell_type": "code",
      "metadata": {
        "id": "ve3jc1lhxVd6"
      },
      "source": [
        "embarked_passenger_class_pivot_table = train.pivot_table(values=['Survived'], index=['Embarked', 'Pclass'])\n",
        "embarked_passenger_class_pivot_table"
      ],
      "execution_count": null,
      "outputs": []
    },
    {
      "cell_type": "markdown",
      "metadata": {
        "id": "tAgUEIk2yRg1"
      },
      "source": [
        "3rd Class passengers who boarded from Souththampon, were the least fortunate."
      ]
    },
    {
      "cell_type": "code",
      "metadata": {
        "id": "Cz14dYteydIZ"
      },
      "source": [
        "embarked_passenger_class_pivot_table.plot(kind = 'barh')\n",
        "plt.ylabel('Embarkeded/ Passenger Class')"
      ],
      "execution_count": null,
      "outputs": []
    },
    {
      "cell_type": "markdown",
      "metadata": {
        "id": "JMQDgukcUkVy"
      },
      "source": [
        "#Cabin & Passenger Class with Survival"
      ]
    },
    {
      "cell_type": "code",
      "metadata": {
        "id": "CnwEsuVtUtLH"
      },
      "source": [
        "g = sns.catplot(col=\"In_Cabin\", x='Pclass', hue=\"Survived\", kind=\"count\", data=train.sort_values(by='Pclass'));\n",
        "new_labels = ['Died', 'Survived']\n",
        "for t, l in zip(g._legend.texts, new_labels):\n",
        "    t.set_text(l)\n",
        "g.fig.set_figwidth(16)\n",
        "g.set(xlabel=\"Passenger Class\")"
      ],
      "execution_count": null,
      "outputs": []
    },
    {
      "cell_type": "markdown",
      "metadata": {
        "id": "XjY3ygfLU9rO"
      },
      "source": [
        "It looks like being in a cabin, somehow helped with Survival"
      ]
    },
    {
      "cell_type": "markdown",
      "metadata": {
        "id": "zfciaWumZehg"
      },
      "source": [
        "#Tickets"
      ]
    },
    {
      "cell_type": "code",
      "metadata": {
        "id": "_01jW_L9ZhfZ"
      },
      "source": [
        "train['Ticket'].describe()"
      ],
      "execution_count": null,
      "outputs": []
    },
    {
      "cell_type": "markdown",
      "metadata": {
        "id": "pjwCvQwbZ_wO"
      },
      "source": [
        "There are 681 unique tickets out of 891 passengers. It seems some passengers shared a single ticket."
      ]
    },
    {
      "cell_type": "code",
      "metadata": {
        "id": "kDBN3hH9Zwk3"
      },
      "source": [
        "train['Ticket'].value_counts()"
      ],
      "execution_count": null,
      "outputs": []
    },
    {
      "cell_type": "markdown",
      "metadata": {
        "id": "kN4RabM4aNCf"
      },
      "source": [
        "The point of sharing a single ticket by many passengers is shown above."
      ]
    }
  ]
}